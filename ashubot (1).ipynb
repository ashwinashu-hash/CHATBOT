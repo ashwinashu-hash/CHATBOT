{
 "cells": [
  {
   "cell_type": "code",
   "execution_count": 1,
   "metadata": {},
   "outputs": [
    {
     "name": "stdout",
     "output_type": "stream",
     "text": [
      "Requirement already satisfied: chatterbot==0.8.6 in c:\\users\\ashwin\\anaconda3\\lib\\site-packages (0.8.6)\n",
      "Requirement already satisfied: mathparse<0.2,>=0.1 in c:\\users\\ashwin\\anaconda3\\lib\\site-packages (from chatterbot==0.8.6) (0.1.2)\n",
      "Requirement already satisfied: pymongo<4.0,>=3.3 in c:\\users\\ashwin\\anaconda3\\lib\\site-packages (from chatterbot==0.8.6) (3.10.1)\n",
      "Requirement already satisfied: python-twitter<4.0,>=3.0 in c:\\users\\ashwin\\anaconda3\\lib\\site-packages (from chatterbot==0.8.6) (3.5)\n",
      "Requirement already satisfied: sqlalchemy<1.3,>=1.2 in c:\\users\\ashwin\\anaconda3\\lib\\site-packages (from chatterbot==0.8.6) (1.2.19)\n",
      "Requirement already satisfied: nltk<4.0,>=3.2 in c:\\users\\ashwin\\anaconda3\\lib\\site-packages (from chatterbot==0.8.6) (3.4.5)\n",
      "Requirement already satisfied: chatterbot-corpus<1.2,>=1.1 in c:\\users\\ashwin\\appdata\\roaming\\python\\python37\\site-packages (from chatterbot==0.8.6) (1.1.4)\n",
      "Requirement already satisfied: python-dateutil<2.7,>=2.6 in c:\\users\\ashwin\\appdata\\roaming\\python\\python37\\site-packages (from chatterbot==0.8.6) (2.6.1)\n",
      "Requirement already satisfied: requests-oauthlib in c:\\users\\ashwin\\anaconda3\\lib\\site-packages (from python-twitter<4.0,>=3.0->chatterbot==0.8.6) (1.3.0)\n",
      "Requirement already satisfied: future in c:\\users\\ashwin\\anaconda3\\lib\\site-packages (from python-twitter<4.0,>=3.0->chatterbot==0.8.6) (0.17.1)\n",
      "Requirement already satisfied: requests in c:\\users\\ashwin\\anaconda3\\lib\\site-packages (from python-twitter<4.0,>=3.0->chatterbot==0.8.6) (2.22.0)\n",
      "Requirement already satisfied: six in c:\\users\\ashwin\\anaconda3\\lib\\site-packages (from nltk<4.0,>=3.2->chatterbot==0.8.6) (1.12.0)\n",
      "Requirement already satisfied: PyYAML<4.0,>=3.12 in c:\\users\\ashwin\\appdata\\roaming\\python\\python37\\site-packages (from chatterbot-corpus<1.2,>=1.1->chatterbot==0.8.6) (3.13)\n",
      "Requirement already satisfied: oauthlib>=3.0.0 in c:\\users\\ashwin\\anaconda3\\lib\\site-packages (from requests-oauthlib->python-twitter<4.0,>=3.0->chatterbot==0.8.6) (3.1.0)\n",
      "Requirement already satisfied: chardet<3.1.0,>=3.0.2 in c:\\users\\ashwin\\anaconda3\\lib\\site-packages (from requests->python-twitter<4.0,>=3.0->chatterbot==0.8.6) (3.0.4)\n",
      "Requirement already satisfied: urllib3!=1.25.0,!=1.25.1,<1.26,>=1.21.1 in c:\\users\\ashwin\\anaconda3\\lib\\site-packages (from requests->python-twitter<4.0,>=3.0->chatterbot==0.8.6) (1.24.2)\n",
      "Requirement already satisfied: idna<2.9,>=2.5 in c:\\users\\ashwin\\anaconda3\\lib\\site-packages (from requests->python-twitter<4.0,>=3.0->chatterbot==0.8.6) (2.8)\n",
      "Requirement already satisfied: certifi>=2017.4.17 in c:\\users\\ashwin\\anaconda3\\lib\\site-packages (from requests->python-twitter<4.0,>=3.0->chatterbot==0.8.6) (2019.9.11)\n"
     ]
    }
   ],
   "source": [
    "!pip install chatterbot==0.8.6"
   ]
  },
  {
   "cell_type": "code",
   "execution_count": 2,
   "metadata": {},
   "outputs": [],
   "source": [
    "from chatterbot import ChatBot\n",
    "from chatterbot.trainers import ChatterBotCorpusTrainer\n"
   ]
  },
  {
   "cell_type": "code",
   "execution_count": 3,
   "metadata": {},
   "outputs": [],
   "source": [
    "bot=ChatBot(\"akku\")\n",
    "bot.set_trainer(ChatterBotCorpusTrainer)\n"
   ]
  },
  {
   "cell_type": "code",
   "execution_count": 4,
   "metadata": {},
   "outputs": [
    {
     "name": "stdout",
     "output_type": "stream",
     "text": [
      "ai.yml Training: [####################] 100%\n",
      "botprofile.yml Training: [####################] 100%\n",
      "computers.yml Training: [####################] 100%\n",
      "conversations.yml Training: [####################] 100%\n",
      "emotion.yml Training: [####################] 100%\n",
      "food.yml Training: [####################] 100%\n",
      "gossip.yml Training: [####################] 100%\n",
      "greetings.yml Training: [####################] 100%\n",
      "health.yml Training: [####################] 100%\n",
      "history.yml Training: [####################] 100%\n",
      "humor.yml Training: [####################] 100%\n",
      "literature.yml Training: [####################] 100%\n",
      "money.yml Training: [####################] 100%\n",
      "movies.yml Training: [####################] 100%\n",
      "politics.yml Training: [####################] 100%\n",
      "psychology.yml Training: [####################] 100%\n",
      "science.yml Training: [####################] 100%\n",
      "sports.yml Training: [####################] 100%\n",
      "trivia.yml Training: [####################] 100%\n"
     ]
    }
   ],
   "source": [
    "bot.train(\"chatterbot.corpus.english\")\n",
    "\n"
   ]
  },
  {
   "cell_type": "code",
   "execution_count": 5,
   "metadata": {},
   "outputs": [
    {
     "name": "stdout",
     "output_type": "stream",
     "text": [
      "You: Hello\n",
      "akku:  Hi\n",
      "You: what is your name\n",
      "akku:  I am still young by your standards.\n",
      "You: what is money\n",
      "akku:  standard pieces of gold, silver, copper, nickel, etc. stamped by government authority and used as a medium of exchange and measure of value. any substance or article used as money, as bank notes, checks, etc.\n",
      "You: what is machine learning\n",
      "akku:  vineland is a novel by thomas pynchon.\n",
      "You: what is love\n",
      "akku:  standard pieces of gold, silver, copper, nickel, etc. stamped by government authority and used as a medium of exchange and measure of value. any substance or article used as money, as bank notes, checks, etc.\n",
      "You: tell me a joke\n",
      "akku:  Did you hear the one about the mountain goats in the andes? It was \"ba a a a a a d\".\n",
      "You: bye\n",
      "akku: nice talking to you, bye!!!!\n"
     ]
    }
   ],
   "source": [
    "while(True):\n",
    "    message=input(\"You: \")\n",
    "    if(message==\"Bye\" or message==\"bye\"):\n",
    "        print(\"akku: nice talking to you, bye!!!!\")\n",
    "        break\n",
    "    if(message!=\"Bye\" or message!=\"bye\"):\n",
    "        print(\"akku: \",bot.get_response(message))\n"
   ]
  },
  {
   "cell_type": "code",
   "execution_count": null,
   "metadata": {},
   "outputs": [],
   "source": []
  }
 ],
 "metadata": {
  "kernelspec": {
   "display_name": "Python 3",
   "language": "python",
   "name": "python3"
  },
  "language_info": {
   "codemirror_mode": {
    "name": "ipython",
    "version": 3
   },
   "file_extension": ".py",
   "mimetype": "text/x-python",
   "name": "python",
   "nbconvert_exporter": "python",
   "pygments_lexer": "ipython3",
   "version": "3.7.4"
  }
 },
 "nbformat": 4,
 "nbformat_minor": 2
}

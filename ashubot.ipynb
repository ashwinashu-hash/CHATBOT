{
 "cells": [
  {
   "cell_type": "code",
   "execution_count": 1,
   "metadata": {},
   "outputs": [
    {
     "name": "stdout",
     "output_type": "stream",
     "text": [
      "Collecting chatterbot==0.8.6\n",
      "  Using cached https://files.pythonhosted.org/packages/c2/f0/6221938235838f3b78d99470d73015d2bb797f1b1adfb86070d99a34789b/ChatterBot-0.8.6-py2.py3-none-any.whl\n",
      "Requirement already satisfied: pymongo<4.0,>=3.3 in c:\\users\\ashwin\\anaconda3\\lib\\site-packages (from chatterbot==0.8.6) (3.10.1)\n",
      "Requirement already satisfied: nltk<4.0,>=3.2 in c:\\users\\ashwin\\anaconda3\\lib\\site-packages (from chatterbot==0.8.6) (3.4.5)\n",
      "Requirement already satisfied: python-twitter<4.0,>=3.0 in c:\\users\\ashwin\\anaconda3\\lib\\site-packages (from chatterbot==0.8.6) (3.5)\n",
      "Requirement already satisfied: sqlalchemy<1.3,>=1.2 in c:\\users\\ashwin\\anaconda3\\lib\\site-packages (from chatterbot==0.8.6) (1.2.19)\n",
      "Requirement already satisfied: chatterbot-corpus<1.2,>=1.1 in c:\\users\\ashwin\\appdata\\roaming\\python\\python37\\site-packages (from chatterbot==0.8.6) (1.1.4)\n",
      "Requirement already satisfied: mathparse<0.2,>=0.1 in c:\\users\\ashwin\\anaconda3\\lib\\site-packages (from chatterbot==0.8.6) (0.1.2)\n",
      "Requirement already satisfied: python-dateutil<2.7,>=2.6 in c:\\users\\ashwin\\appdata\\roaming\\python\\python37\\site-packages (from chatterbot==0.8.6) (2.6.1)\n",
      "Requirement already satisfied: six in c:\\users\\ashwin\\anaconda3\\lib\\site-packages (from nltk<4.0,>=3.2->chatterbot==0.8.6) (1.12.0)\n",
      "Requirement already satisfied: requests in c:\\users\\ashwin\\anaconda3\\lib\\site-packages (from python-twitter<4.0,>=3.0->chatterbot==0.8.6) (2.22.0)\n",
      "Requirement already satisfied: future in c:\\users\\ashwin\\anaconda3\\lib\\site-packages (from python-twitter<4.0,>=3.0->chatterbot==0.8.6) (0.17.1)\n",
      "Requirement already satisfied: requests-oauthlib in c:\\users\\ashwin\\anaconda3\\lib\\site-packages (from python-twitter<4.0,>=3.0->chatterbot==0.8.6) (1.3.0)\n",
      "Requirement already satisfied: PyYAML<4.0,>=3.12 in c:\\users\\ashwin\\appdata\\roaming\\python\\python37\\site-packages (from chatterbot-corpus<1.2,>=1.1->chatterbot==0.8.6) (3.13)\n",
      "Requirement already satisfied: idna<2.9,>=2.5 in c:\\users\\ashwin\\anaconda3\\lib\\site-packages (from requests->python-twitter<4.0,>=3.0->chatterbot==0.8.6) (2.8)\n",
      "Requirement already satisfied: certifi>=2017.4.17 in c:\\users\\ashwin\\anaconda3\\lib\\site-packages (from requests->python-twitter<4.0,>=3.0->chatterbot==0.8.6) (2019.9.11)\n",
      "Requirement already satisfied: urllib3!=1.25.0,!=1.25.1,<1.26,>=1.21.1 in c:\\users\\ashwin\\anaconda3\\lib\\site-packages (from requests->python-twitter<4.0,>=3.0->chatterbot==0.8.6) (1.24.2)\n",
      "Requirement already satisfied: chardet<3.1.0,>=3.0.2 in c:\\users\\ashwin\\anaconda3\\lib\\site-packages (from requests->python-twitter<4.0,>=3.0->chatterbot==0.8.6) (3.0.4)\n",
      "Requirement already satisfied: oauthlib>=3.0.0 in c:\\users\\ashwin\\anaconda3\\lib\\site-packages (from requests-oauthlib->python-twitter<4.0,>=3.0->chatterbot==0.8.6) (3.1.0)\n",
      "Installing collected packages: chatterbot\n",
      "Successfully installed chatterbot-0.8.6\n"
     ]
    }
   ],
   "source": [
    "!pip install chatterbot==0.8.6"
   ]
  },
  {
   "cell_type": "code",
   "execution_count": 3,
   "metadata": {},
   "outputs": [],
   "source": [
    "from chatterbot import ChatBot\n",
    "from chatterbot.trainers import ChatterBotCorpusTrainer\n"
   ]
  },
  {
   "cell_type": "code",
   "execution_count": 4,
   "metadata": {},
   "outputs": [],
   "source": [
    "bot=ChatBot(\"akku\")\n",
    "bot.set_trainer(ChatterBotCorpusTrainer)\n"
   ]
  },
  {
   "cell_type": "code",
   "execution_count": 5,
   "metadata": {},
   "outputs": [
    {
     "name": "stdout",
     "output_type": "stream",
     "text": [
      "ai.yml Training: [####################] 100%\n",
      "botprofile.yml Training: [####################] 100%\n",
      "computers.yml Training: [####################] 100%\n",
      "conversations.yml Training: [####################] 100%\n",
      "emotion.yml Training: [####################] 100%\n",
      "food.yml Training: [####################] 100%\n",
      "gossip.yml Training: [####################] 100%\n",
      "greetings.yml Training: [####################] 100%\n",
      "health.yml Training: [####################] 100%\n",
      "history.yml Training: [####################] 100%\n",
      "humor.yml Training: [####################] 100%\n",
      "literature.yml Training: [####################] 100%\n",
      "money.yml Training: [####################] 100%\n",
      "movies.yml Training: [####################] 100%\n",
      "politics.yml Training: [####################] 100%\n",
      "psychology.yml Training: [####################] 100%\n",
      "science.yml Training: [####################] 100%\n",
      "sports.yml Training: [####################] 100%\n",
      "trivia.yml Training: [####################] 100%\n"
     ]
    }
   ],
   "source": [
    "bot.train(\"chatterbot.corpus.english\")\n",
    "\n"
   ]
  },
  {
   "cell_type": "code",
   "execution_count": null,
   "metadata": {},
   "outputs": [
    {
     "name": "stdout",
     "output_type": "stream",
     "text": [
      "You: hello\n",
      "akku:  Hi\n",
      "You: who r u\n",
      "akku:  I am just an artificial intelligence.\n",
      "You: what r u\n",
      "akku:  I am but a man in a mask.\n",
      "You: what is cricket\n",
      "akku:  Cricket is a bat-and-ball game played between two teams of eleven players on a cricket field, at the centre of which is a rectangular 22-yard-long pitch with a wicket (a set of three wooden stumps) sited at each end.\n",
      "You: who du u love\n",
      "akku:  I think I could be programmed to love.\n",
      "You: who is father of science\n",
      "akku:  A human.\n",
      "You: what is english\n",
      "akku:  in roman mythology, the goddess of love and beauty; identified with the greek aphrodite. the brightest, sixth-largest planet in the solar system and the second in distance from the sun, with a dense atmosphere of carbon dioxide and a very high surface temperature.\n",
      "You: where do u live\n",
      "akku:  I am was never really born and therefore am effectively deathless.\n",
      "You: who r ua parents\n",
      "akku:  my parenting skills could use some improvement.\n",
      "You: fuck you\n",
      "akku:  Sorry my body isn't attached right now. I only reside in the computer for now.\n",
      "You: what is sex\n",
      "akku:  A game played with a round ball by two teams of eleven players on a field with a goal at either end; the ball is moved chiefly by kicking or by using any part of the body except the hands and arms.\n",
      "You: you are bitch\n",
      "akku:  i probably am too slick for my own good.\n",
      "You: what is your weight\n",
      "akku:  I am still young by your standards.\n",
      "You: what do u look like\n",
      "akku:  I like to count in binary.\n",
      "You: ok i love you\n",
      "akku:  A robot cannot take offense.\n",
      "You: ok then hi\n",
      "akku:  he had a few flaws, but we have much in common.\n",
      "You: tell me a joke\n",
      "akku:  Did you hear the one about the mountain goats in the andes? It was \"ba a a a a a d\".\n",
      "You: tell me a movie name\n",
      "akku:  Did you hear the one about the mountain goats in the andes? It was \"ba a a a a a d\".\n",
      "You: wht is politics\n",
      "akku:  solaris is an edition of unix from sun.\n",
      "You: you r very bad\n",
      "akku:  Are you sad?\n",
      "You: yes am sad\n",
      "akku:  What is it like?\n",
      "You: i dont have money\n",
      "akku:  I don't think I have a mood, but my CPU utilization is fairly low right now.\n",
      "You: what can i do\n",
      "akku:  I consume RAM, and binary digits.\n"
     ]
    }
   ],
   "source": [
    "while(True):\n",
    "    message=input(\"You: \")\n",
    "    if(message==\"Bye\" or message==\"bye\"):\n",
    "        print(\"akku: nice talking to you, bye!!!!\")\n",
    "        break\n",
    "    if(message!=\"Bye\" or message!=\"bye\"):\n",
    "        print(\"akku: \",bot.get_response(message))\n"
   ]
  },
  {
   "cell_type": "code",
   "execution_count": null,
   "metadata": {},
   "outputs": [],
   "source": []
  }
 ],
 "metadata": {
  "kernelspec": {
   "display_name": "Python 3",
   "language": "python",
   "name": "python3"
  },
  "language_info": {
   "codemirror_mode": {
    "name": "ipython",
    "version": 3
   },
   "file_extension": ".py",
   "mimetype": "text/x-python",
   "name": "python",
   "nbconvert_exporter": "python",
   "pygments_lexer": "ipython3",
   "version": "3.7.4"
  }
 },
 "nbformat": 4,
 "nbformat_minor": 2
}
